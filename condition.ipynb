{
 "cells": [
  {
   "cell_type": "code",
   "execution_count": 3,
   "metadata": {},
   "outputs": [
    {
     "name": "stdout",
     "output_type": "stream",
     "text": [
      "88\n",
      "<class 'int'>\n"
     ]
    }
   ],
   "source": [
    "marks = input('enter your marks')\n",
    "marks = int (marks)\n",
    "print(marks)\n",
    "print(type(marks))"
   ]
  },
  {
   "cell_type": "code",
   "execution_count": 9,
   "metadata": {},
   "outputs": [
    {
     "name": "stdout",
     "output_type": "stream",
     "text": [
      "you are passed\n"
     ]
    }
   ],
   "source": [
    "marks = int(input('enter your marks:'))\n",
    "if marks >= 33:\n",
    "    print('you are passed')\n"
   ]
  },
  {
   "cell_type": "code",
   "execution_count": 13,
   "metadata": {},
   "outputs": [
    {
     "name": "stdout",
     "output_type": "stream",
     "text": [
      "you are failed\n"
     ]
    }
   ],
   "source": [
    "marks = int(input('enter your marks:'))\n",
    "if marks >= 33:\n",
    "    print('you are passed')\n",
    "else:\n",
    "    print('you are failed')\n"
   ]
  },
  {
   "cell_type": "code",
   "execution_count": 1,
   "metadata": {},
   "outputs": [
    {
     "name": "stdout",
     "output_type": "stream",
     "text": [
      "pleasant day\n"
     ]
    }
   ],
   "source": [
    "temp = float(input('temperature:'))\n",
    "if temp >= 35:\n",
    "    print('Hot day')\n",
    "elif temp>=20 and temp <=35:\n",
    "    print('pleasant day')\n",
    "else:\n",
    "    print('cold day')"
   ]
  },
  {
   "cell_type": "code",
   "execution_count": 1,
   "metadata": {},
   "outputs": [
    {
     "name": "stdout",
     "output_type": "stream",
     "text": [
      "we have done git hub\n"
     ]
    }
   ],
   "source": [
    "print(\"we have done git hub\")"
   ]
  }
 ],
 "metadata": {
  "kernelspec": {
   "display_name": "Python 3",
   "language": "python",
   "name": "python3"
  },
  "language_info": {
   "codemirror_mode": {
    "name": "ipython",
    "version": 3
   },
   "file_extension": ".py",
   "mimetype": "text/x-python",
   "name": "python",
   "nbconvert_exporter": "python",
   "pygments_lexer": "ipython3",
   "version": "3.12.4"
  }
 },
 "nbformat": 4,
 "nbformat_minor": 2
}
