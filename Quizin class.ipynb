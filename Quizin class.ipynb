{
 "cells": [
  {
   "cell_type": "code",
   "execution_count": 1,
   "metadata": {},
   "outputs": [
    {
     "name": "stdout",
     "output_type": "stream",
     "text": [
      "sum of 20 and 30 is 50\n"
     ]
    }
   ],
   "source": [
    "num1 =int(input(\"enter your first number\"))\n",
    "num2 =int(input(\"enter your second number\"))\n",
    "sum = num1+num2 \n",
    "print(f\"sum of {num1} and {num2} is {sum}\")"
   ]
  },
  {
   "cell_type": "code",
   "execution_count": 5,
   "metadata": {},
   "outputs": [
    {
     "name": "stdout",
     "output_type": "stream",
     "text": [
      "My favt animal is also Cow!\n"
     ]
    }
   ],
   "source": [
    "favt_animal=input (\"What is your favt_animal\")\n",
    "print(f\"My favt animal is also {favt_animal}!\")\n"
   ]
  },
  {
   "cell_type": "code",
   "execution_count": null,
   "metadata": {},
   "outputs": [],
   "source": [
    "degrees_fahrenheit = float(input(\"Enter temperature in Fahrenheit: \"))"
   ]
  }
 ],
 "metadata": {
  "kernelspec": {
   "display_name": "Python 3",
   "language": "python",
   "name": "python3"
  },
  "language_info": {
   "codemirror_mode": {
    "name": "ipython",
    "version": 3
   },
   "file_extension": ".py",
   "mimetype": "text/x-python",
   "name": "python",
   "nbconvert_exporter": "python",
   "pygments_lexer": "ipython3",
   "version": "3.12.4"
  }
 },
 "nbformat": 4,
 "nbformat_minor": 2
}
