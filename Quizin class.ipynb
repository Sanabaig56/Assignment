{
 "cells": [
  {
   "cell_type": "code",
   "execution_count": 1,
   "metadata": {},
   "outputs": [
    {
     "name": "stdout",
     "output_type": "stream",
     "text": [
      "sum of 30 and 20 is 50\n"
     ]
    }
   ],
   "source": [
    "num1 =int(input(\"enter your first number\"))\n",
    "num2 =int(input(\"enter your second number\"))\n",
    "sum = num1+num2 \n",
    "print(f\"sum of {num1} and {num2} is {sum}\")"
   ]
  },
  {
   "cell_type": "code",
   "execution_count": 2,
   "metadata": {},
   "outputs": [
    {
     "name": "stdout",
     "output_type": "stream",
     "text": [
      "My favt animal is also cow!\n"
     ]
    }
   ],
   "source": [
    "favt_animal=input (\"What is your favt_animal\")\n",
    "print(f\"My favt animal is also {favt_animal}!\")\n"
   ]
  },
  {
   "cell_type": "code",
   "execution_count": 8,
   "metadata": {},
   "outputs": [
    {
     "name": "stdout",
     "output_type": "stream",
     "text": [
      "76.0 degrees Fahrenheit is equal to 24.444444444444443 degrees Celsius.\n"
     ]
    }
   ],
   "source": [
    "fahrenheit = float(input(\"Enter a temperature in Fahrenheit: \"))\n",
    "celsius = (fahrenheit - 32) * 5.0 / 9.0\n",
    "print(f\"{fahrenheit} degrees Fahrenheit is equal to {celsius} degrees Celsius.\")"
   ]
  }
 ],
 "metadata": {
  "kernelspec": {
   "display_name": "Python 3",
   "language": "python",
   "name": "python3"
  },
  "language_info": {
   "codemirror_mode": {
    "name": "ipython",
    "version": 3
   },
   "file_extension": ".py",
   "mimetype": "text/x-python",
   "name": "python",
   "nbconvert_exporter": "python",
   "pygments_lexer": "ipython3",
   "version": "3.12.4"
  }
 },
 "nbformat": 4,
 "nbformat_minor": 2
}
