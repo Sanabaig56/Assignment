{
 "cells": [
  {
   "cell_type": "code",
   "execution_count": 6,
   "metadata": {},
   "outputs": [
    {
     "name": "stdout",
     "output_type": "stream",
     "text": [
      "My name is Hira\n"
     ]
    }
   ],
   "source": [
    "Name=input(\"What is your name\")\n",
    "print(f\"My name is {Name}\")\n"
   ]
  },
  {
   "cell_type": "code",
   "execution_count": 76,
   "metadata": {},
   "outputs": [
    {
     "name": "stdout",
     "output_type": "stream",
     "text": [
      "sum of 3 and 1 and 2 is 6\n"
     ]
    }
   ],
   "source": [
    "num2 =int(input(\"enter your favourite number\"))\n",
    "num3 =int(input(\"enter your favourite number\"))\n",
    "num1 =int(input(\"enter your favourite number\"))\n",
    "sum = num1+num2+num3 \n",
    "print(f\"sum of {num1} and {num2} and {num3} is {sum}\")\n"
   ]
  },
  {
   "cell_type": "code",
   "execution_count": 81,
   "metadata": {},
   "outputs": [
    {
     "name": "stdout",
     "output_type": "stream",
     "text": [
      "odd\n",
      "odd\n",
      "even\n"
     ]
    }
   ],
   "source": [
    "num1 =input(\"enter first number\")\n",
    "num2 =input(\"enter second number\")\n",
    "num3 =input(\"enter third number\")\n",
    "print(num1)\n",
    "print(num2)\n",
    "print(num3)"
   ]
  },
  {
   "cell_type": "code",
   "execution_count": 82,
   "metadata": {},
   "outputs": [],
   "source": [
    "#list of the numbers\n",
    "numbers = [3, 1, 2]"
   ]
  },
  {
   "cell_type": "code",
   "execution_count": 78,
   "metadata": {},
   "outputs": [],
   "source": [
    "#Empty list to store tuples\n",
    "number_squares = []"
   ]
  },
  {
   "cell_type": "code",
   "execution_count": 83,
   "metadata": {},
   "outputs": [
    {
     "name": "stdout",
     "output_type": "stream",
     "text": [
      "[3, 1, 2]\n",
      "[3, 1, 2]\n",
      "[3, 1, 2]\n"
     ]
    }
   ],
   "source": [
    "#Iterate over the list of number\n",
    "for num in numbers:\n",
    "    print(numbers)"
   ]
  },
  {
   "cell_type": "code",
   "execution_count": 84,
   "metadata": {},
   "outputs": [],
   "source": [
    "#tuples containig numbers and its square\n",
    "tuples_pair = (num, num**2)\n"
   ]
  },
  {
   "cell_type": "code",
   "execution_count": 85,
   "metadata": {},
   "outputs": [],
   "source": [
    "#append the tuples in list\n",
    "number_squares.append(tuples_pair)"
   ]
  },
  {
   "cell_type": "code",
   "execution_count": 86,
   "metadata": {},
   "outputs": [
    {
     "name": "stdout",
     "output_type": "stream",
     "text": [
      "[(2, 4)]\n"
     ]
    }
   ],
   "source": [
    "#print the tuples of list\n",
    "print(number_squares)"
   ]
  }
 ],
 "metadata": {
  "kernelspec": {
   "display_name": "Python 3",
   "language": "python",
   "name": "python3"
  },
  "language_info": {
   "codemirror_mode": {
    "name": "ipython",
    "version": 3
   },
   "file_extension": ".py",
   "mimetype": "text/x-python",
   "name": "python",
   "nbconvert_exporter": "python",
   "pygments_lexer": "ipython3",
   "version": "3.12.4"
  }
 },
 "nbformat": 4,
 "nbformat_minor": 2
}
